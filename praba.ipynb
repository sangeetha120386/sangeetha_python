{
 "cells": [
  {
   "cell_type": "code",
   "execution_count": 1,
   "id": "c43f7d99",
   "metadata": {},
   "outputs": [],
   "source": [
    "a=5\n",
    "b=10"
   ]
  },
  {
   "cell_type": "code",
   "execution_count": 2,
   "id": "5aaeab2d",
   "metadata": {},
   "outputs": [
    {
     "data": {
      "text/plain": [
       "15"
      ]
     },
     "execution_count": 2,
     "metadata": {},
     "output_type": "execute_result"
    }
   ],
   "source": [
    "a+b"
   ]
  },
  {
   "cell_type": "code",
   "execution_count": 3,
   "id": "fcdc6627",
   "metadata": {},
   "outputs": [],
   "source": [
    "mm=25\n",
    "me=35\n",
    "dvb=45\n",
    "r=55\n",
    "scm=65\n",
    "ibps=70\n"
   ]
  },
  {
   "cell_type": "code",
   "execution_count": 4,
   "id": "03ae6190",
   "metadata": {},
   "outputs": [
    {
     "data": {
      "text/plain": [
       "295"
      ]
     },
     "execution_count": 4,
     "metadata": {},
     "output_type": "execute_result"
    }
   ],
   "source": [
    "mm+me+dvb+r+scm+ibps"
   ]
  },
  {
   "cell_type": "code",
   "execution_count": 5,
   "id": "e0eb0c1f",
   "metadata": {},
   "outputs": [
    {
     "data": {
      "text/plain": [
       "49.166666666666664"
      ]
     },
     "execution_count": 5,
     "metadata": {},
     "output_type": "execute_result"
    }
   ],
   "source": [
    "295/6"
   ]
  },
  {
   "cell_type": "code",
   "execution_count": 6,
   "id": "b2d576bf",
   "metadata": {},
   "outputs": [
    {
     "data": {
      "text/plain": [
       "49.449999999999996"
      ]
     },
     "execution_count": 6,
     "metadata": {},
     "output_type": "execute_result"
    }
   ],
   "source": [
    "2.5*4.6*4.3"
   ]
  },
  {
   "cell_type": "code",
   "execution_count": 7,
   "id": "685a1ccc",
   "metadata": {},
   "outputs": [
    {
     "data": {
      "text/plain": [
       "44"
      ]
     },
     "execution_count": 7,
     "metadata": {},
     "output_type": "execute_result"
    }
   ],
   "source": [
    "4*(6+5)"
   ]
  },
  {
   "cell_type": "code",
   "execution_count": 11,
   "id": "fabd55d6",
   "metadata": {},
   "outputs": [
    {
     "data": {
      "text/plain": [
       "295"
      ]
     },
     "execution_count": 11,
     "metadata": {},
     "output_type": "execute_result"
    }
   ],
   "source": [
    "average=mm+me+dvb+r+scm+ibps\n",
    "average"
   ]
  },
  {
   "cell_type": "code",
   "execution_count": 13,
   "id": "b10e0051",
   "metadata": {},
   "outputs": [
    {
     "data": {
      "text/plain": [
       "49.166666666666664"
      ]
     },
     "execution_count": 13,
     "metadata": {},
     "output_type": "execute_result"
    }
   ],
   "source": [
    "average/6"
   ]
  },
  {
   "cell_type": "code",
   "execution_count": 19,
   "id": "9929019f",
   "metadata": {},
   "outputs": [
    {
     "data": {
      "text/plain": [
       "295"
      ]
     },
     "execution_count": 19,
     "metadata": {},
     "output_type": "execute_result"
    }
   ],
   "source": [
    "mm+me+dvb+r+scm+ibps"
   ]
  },
  {
   "cell_type": "code",
   "execution_count": 2,
   "id": "c161ceec",
   "metadata": {},
   "outputs": [
    {
     "data": {
      "text/plain": [
       "44"
      ]
     },
     "execution_count": 2,
     "metadata": {},
     "output_type": "execute_result"
    }
   ],
   "source": [
    "1+1\n",
    "1+2+3\n",
    "4/2\n",
    "4/3\n",
    "4*6+5\n",
    "(4*6)+5\n",
    "4*(6+5)"
   ]
  },
  {
   "cell_type": "code",
   "execution_count": 6,
   "id": "b3b3b11c",
   "metadata": {},
   "outputs": [],
   "source": [
    "a=4\n",
    "b=2"
   ]
  },
  {
   "cell_type": "code",
   "execution_count": 7,
   "id": "a89fba2d",
   "metadata": {},
   "outputs": [
    {
     "data": {
      "text/plain": [
       "2"
      ]
     },
     "execution_count": 7,
     "metadata": {},
     "output_type": "execute_result"
    }
   ],
   "source": [
    "a-b"
   ]
  },
  {
   "cell_type": "code",
   "execution_count": 8,
   "id": "13463f09",
   "metadata": {},
   "outputs": [
    {
     "data": {
      "text/plain": [
       "0.49166666666666664"
      ]
     },
     "execution_count": 8,
     "metadata": {},
     "output_type": "execute_result"
    }
   ],
   "source": [
    "295/600"
   ]
  },
  {
   "cell_type": "code",
   "execution_count": 12,
   "id": "4e1c63b8",
   "metadata": {},
   "outputs": [],
   "source": [
    "name=\"praba\""
   ]
  },
  {
   "cell_type": "code",
   "execution_count": 13,
   "id": "c1a7321c",
   "metadata": {},
   "outputs": [
    {
     "data": {
      "text/plain": [
       "'praba'"
      ]
     },
     "execution_count": 13,
     "metadata": {},
     "output_type": "execute_result"
    }
   ],
   "source": [
    "name"
   ]
  },
  {
   "cell_type": "code",
   "execution_count": 14,
   "id": "fc9d454d",
   "metadata": {},
   "outputs": [],
   "source": [
    "moviename=\"vikram\""
   ]
  },
  {
   "cell_type": "code",
   "execution_count": 15,
   "id": "97edad29",
   "metadata": {},
   "outputs": [
    {
     "data": {
      "text/plain": [
       "'vikram'"
      ]
     },
     "execution_count": 15,
     "metadata": {},
     "output_type": "execute_result"
    }
   ],
   "source": [
    "moviename"
   ]
  },
  {
   "cell_type": "code",
   "execution_count": 16,
   "id": "261eb01f",
   "metadata": {},
   "outputs": [],
   "source": [
    "z=\"alphabets\""
   ]
  },
  {
   "cell_type": "code",
   "execution_count": 17,
   "id": "7215134f",
   "metadata": {},
   "outputs": [
    {
     "data": {
      "text/plain": [
       "'alphabets'"
      ]
     },
     "execution_count": 17,
     "metadata": {},
     "output_type": "execute_result"
    }
   ],
   "source": [
    "z"
   ]
  },
  {
   "cell_type": "code",
   "execution_count": 18,
   "id": "551ded1e",
   "metadata": {},
   "outputs": [],
   "source": [
    "male=(20)\n",
    "female=(25)"
   ]
  },
  {
   "cell_type": "code",
   "execution_count": 28,
   "id": "e57882d2",
   "metadata": {},
   "outputs": [
    {
     "data": {
      "text/plain": [
       "-5"
      ]
     },
     "execution_count": 28,
     "metadata": {},
     "output_type": "execute_result"
    }
   ],
   "source": [
    "male-female"
   ]
  },
  {
   "cell_type": "code",
   "execution_count": 29,
   "id": "2aac8c2c",
   "metadata": {},
   "outputs": [
    {
     "data": {
      "text/plain": [
       "True"
      ]
     },
     "execution_count": 29,
     "metadata": {},
     "output_type": "execute_result"
    }
   ],
   "source": [
    "1<4"
   ]
  },
  {
   "cell_type": "code",
   "execution_count": 34,
   "id": "d086c3c2",
   "metadata": {},
   "outputs": [
    {
     "data": {
      "text/plain": [
       "False"
      ]
     },
     "execution_count": 34,
     "metadata": {},
     "output_type": "execute_result"
    }
   ],
   "source": [
    "1.5>8"
   ]
  },
  {
   "cell_type": "code",
   "execution_count": 35,
   "id": "48352f05",
   "metadata": {},
   "outputs": [],
   "source": [
    "name={\"surya\",\"hari\",\"praba\",\"yokesh\"}"
   ]
  },
  {
   "cell_type": "code",
   "execution_count": 36,
   "id": "2d26c322",
   "metadata": {},
   "outputs": [
    {
     "data": {
      "text/plain": [
       "{'hari', 'praba', 'surya', 'yokesh'}"
      ]
     },
     "execution_count": 36,
     "metadata": {},
     "output_type": "execute_result"
    }
   ],
   "source": [
    "name"
   ]
  },
  {
   "cell_type": "code",
   "execution_count": null,
   "id": "daad51ce",
   "metadata": {},
   "outputs": [],
   "source": []
  }
 ],
 "metadata": {
  "kernelspec": {
   "display_name": "Python 3 (ipykernel)",
   "language": "python",
   "name": "python3"
  },
  "language_info": {
   "codemirror_mode": {
    "name": "ipython",
    "version": 3
   },
   "file_extension": ".py",
   "mimetype": "text/x-python",
   "name": "python",
   "nbconvert_exporter": "python",
   "pygments_lexer": "ipython3",
   "version": "3.9.12"
  }
 },
 "nbformat": 4,
 "nbformat_minor": 5
}
